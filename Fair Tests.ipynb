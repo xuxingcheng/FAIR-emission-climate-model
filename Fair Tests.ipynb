{
 "cells": [
  {
   "metadata": {
    "ExecuteTime": {
     "end_time": "2025-06-18T21:44:21.689795Z",
     "start_time": "2025-06-18T21:44:21.686409Z"
    }
   },
   "cell_type": "code",
   "source": "from fair import FAIR\n",
   "id": "bb300a1e58ec7b52",
   "outputs": [],
   "execution_count": 50
  },
  {
   "metadata": {
    "ExecuteTime": {
     "end_time": "2025-06-18T21:44:21.706464Z",
     "start_time": "2025-06-18T21:44:21.703703Z"
    }
   },
   "cell_type": "code",
   "source": "f = FAIR()",
   "id": "d73880c327f71315",
   "outputs": [],
   "execution_count": 51
  },
  {
   "metadata": {
    "ExecuteTime": {
     "end_time": "2025-06-18T21:44:21.731978Z",
     "start_time": "2025-06-18T21:44:21.710460Z"
    }
   },
   "cell_type": "code",
   "source": [
    "from fair.io import read_properties\n",
    "f.define_time(2000, 2050, 1)\n",
    "f.define_scenarios(['abrupt', 'ramp'])\n",
    "f.define_configs(['high', 'central', 'low'])\n",
    "species, properties = read_properties()\n",
    "f.define_species(species, properties)\n",
    "f.ghg_method='Myhre1998'"
   ],
   "id": "b2b0f86d14f7ccb",
   "outputs": [],
   "execution_count": 52
  },
  {
   "metadata": {
    "ExecuteTime": {
     "end_time": "2025-06-18T21:44:21.803165Z",
     "start_time": "2025-06-18T21:44:21.749534Z"
    }
   },
   "cell_type": "code",
   "source": "f.allocate()",
   "id": "800be4bf958025f0",
   "outputs": [],
   "execution_count": 53
  },
  {
   "metadata": {
    "ExecuteTime": {
     "end_time": "2025-06-18T21:44:21.818783Z",
     "start_time": "2025-06-18T21:44:21.815519Z"
    }
   },
   "cell_type": "code",
   "source": [
    "from fair.interface import fill\n",
    "fill(f.emissions, 40, scenario='abrupt', specie='CO2 FFI')"
   ],
   "id": "412894be47f5aacc",
   "outputs": [],
   "execution_count": 54
  },
  {
   "metadata": {
    "ExecuteTime": {
     "end_time": "2025-06-18T21:44:21.977974Z",
     "start_time": "2025-06-18T21:44:21.842833Z"
    }
   },
   "cell_type": "code",
   "source": "f.run()",
   "id": "8721fc90c439f35e",
   "outputs": [
    {
     "ename": "ValueError",
     "evalue": "CO2 FFI contains NaN values in its emissions array, which you are trying to drive the simulation with.",
     "output_type": "error",
     "traceback": [
      "\u001B[31m---------------------------------------------------------------------------\u001B[39m",
      "\u001B[31mValueError\u001B[39m                                Traceback (most recent call last)",
      "\u001B[36mCell\u001B[39m\u001B[36m \u001B[39m\u001B[32mIn[55]\u001B[39m\u001B[32m, line 1\u001B[39m\n\u001B[32m----> \u001B[39m\u001B[32m1\u001B[39m f.run()\n",
      "\u001B[36mFile \u001B[39m\u001B[32mD:\\Conda\\envs\\test_env\\Lib\\site-packages\\fair\\fair.py:1034\u001B[39m, in \u001B[36mFAIR.run\u001B[39m\u001B[34m(self, progress, suppress_warnings)\u001B[39m\n\u001B[32m   1024\u001B[39m \u001B[38;5;28;01mdef\u001B[39;00m\u001B[38;5;250m \u001B[39m\u001B[34mrun\u001B[39m(\u001B[38;5;28mself\u001B[39m, progress=\u001B[38;5;28;01mTrue\u001B[39;00m, suppress_warnings=\u001B[38;5;28;01mTrue\u001B[39;00m):\n\u001B[32m   1025\u001B[39m \u001B[38;5;250m    \u001B[39m\u001B[33;03m\"\"\"Run the FaIR model.\u001B[39;00m\n\u001B[32m   1026\u001B[39m \n\u001B[32m   1027\u001B[39m \u001B[33;03m    Parameters\u001B[39;00m\n\u001B[32m   (...)\u001B[39m\u001B[32m   1032\u001B[39m \u001B[33;03m        Hide warnings relating to covariance in energy balance matrix.\u001B[39;00m\n\u001B[32m   1033\u001B[39m \u001B[33;03m    \"\"\"\u001B[39;00m\n\u001B[32m-> \u001B[39m\u001B[32m1034\u001B[39m     \u001B[38;5;28mself\u001B[39m._check_properties()\n\u001B[32m   1035\u001B[39m     \u001B[38;5;28mself\u001B[39m._make_indices()\n\u001B[32m   1036\u001B[39m     \u001B[38;5;28;01mif\u001B[39;00m \u001B[38;5;28mself\u001B[39m._routine_flags[\u001B[33m\"\u001B[39m\u001B[33mtemperature\u001B[39m\u001B[33m\"\u001B[39m]:\n",
      "\u001B[36mFile \u001B[39m\u001B[32mD:\\Conda\\envs\\test_env\\Lib\\site-packages\\fair\\fair.py:750\u001B[39m, in \u001B[36mFAIR._check_properties\u001B[39m\u001B[34m(self)\u001B[39m\n\u001B[32m    748\u001B[39m     n_nan = np.isnan(\u001B[38;5;28mself\u001B[39m.emissions.loc[\u001B[38;5;28mdict\u001B[39m(specie=specie)]).sum()\n\u001B[32m    749\u001B[39m     \u001B[38;5;28;01mif\u001B[39;00m n_nan > \u001B[32m0\u001B[39m:\n\u001B[32m--> \u001B[39m\u001B[32m750\u001B[39m         _raise_if_nan(specie, \u001B[33m\"\u001B[39m\u001B[33memissions\u001B[39m\u001B[33m\"\u001B[39m)\n\u001B[32m    751\u001B[39m \u001B[38;5;28;01melif\u001B[39;00m \u001B[38;5;28mself\u001B[39m.properties[specie][\u001B[33m\"\u001B[39m\u001B[33minput_mode\u001B[39m\u001B[33m\"\u001B[39m] == \u001B[33m\"\u001B[39m\u001B[33mconcentration\u001B[39m\u001B[33m\"\u001B[39m:\n\u001B[32m    752\u001B[39m     n_nan = np.isnan(\u001B[38;5;28mself\u001B[39m.concentration.loc[\u001B[38;5;28mdict\u001B[39m(specie=specie)]).sum()\n",
      "\u001B[36mFile \u001B[39m\u001B[32mD:\\Conda\\envs\\test_env\\Lib\\site-packages\\fair\\fair.py:727\u001B[39m, in \u001B[36mFAIR._check_properties.<locals>._raise_if_nan\u001B[39m\u001B[34m(specie, input_mode)\u001B[39m\n\u001B[32m    726\u001B[39m \u001B[38;5;28;01mdef\u001B[39;00m\u001B[38;5;250m \u001B[39m\u001B[34m_raise_if_nan\u001B[39m(specie, input_mode):\n\u001B[32m--> \u001B[39m\u001B[32m727\u001B[39m     \u001B[38;5;28;01mraise\u001B[39;00m \u001B[38;5;167;01mValueError\u001B[39;00m(\n\u001B[32m    728\u001B[39m         \u001B[33mf\u001B[39m\u001B[33m\"\u001B[39m\u001B[38;5;132;01m{\u001B[39;00mspecie\u001B[38;5;132;01m}\u001B[39;00m\u001B[33m contains NaN values in its \u001B[39m\u001B[38;5;132;01m{\u001B[39;00minput_mode\u001B[38;5;132;01m}\u001B[39;00m\u001B[33m array, which you \u001B[39m\u001B[33m\"\u001B[39m\n\u001B[32m    729\u001B[39m         \u001B[33mf\u001B[39m\u001B[33m\"\u001B[39m\u001B[33mare trying to drive the simulation with.\u001B[39m\u001B[33m\"\u001B[39m\n\u001B[32m    730\u001B[39m     )\n",
      "\u001B[31mValueError\u001B[39m: CO2 FFI contains NaN values in its emissions array, which you are trying to drive the simulation with."
     ]
    }
   ],
   "execution_count": 55
  }
 ],
 "metadata": {
  "kernelspec": {
   "display_name": "Python [conda env:base] *",
   "language": "python",
   "name": "conda-base-py"
  },
  "language_info": {
   "codemirror_mode": {
    "name": "ipython",
    "version": 2
   },
   "file_extension": ".py",
   "mimetype": "text/x-python",
   "name": "python",
   "nbconvert_exporter": "python",
   "pygments_lexer": "ipython2",
   "version": "2.7.6"
  }
 },
 "nbformat": 4,
 "nbformat_minor": 5
}
