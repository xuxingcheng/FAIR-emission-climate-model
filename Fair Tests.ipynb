{
 "cells": [
  {
   "metadata": {
    "ExecuteTime": {
     "end_time": "2025-06-18T21:11:46.487438Z",
     "start_time": "2025-06-18T21:11:46.484264Z"
    }
   },
   "cell_type": "code",
   "source": "from fair import FAIR\n",
   "id": "bb300a1e58ec7b52",
   "outputs": [],
   "execution_count": 2
  },
  {
   "metadata": {
    "ExecuteTime": {
     "end_time": "2025-06-18T21:11:48.108898Z",
     "start_time": "2025-06-18T21:11:48.105781Z"
    }
   },
   "cell_type": "code",
   "source": "f = FAIR()",
   "id": "d73880c327f71315",
   "outputs": [],
   "execution_count": 3
  }
 ],
 "metadata": {
  "kernelspec": {
   "display_name": "Python [conda env:base] *",
   "language": "python",
   "name": "conda-base-py"
  },
  "language_info": {
   "codemirror_mode": {
    "name": "ipython",
    "version": 2
   },
   "file_extension": ".py",
   "mimetype": "text/x-python",
   "name": "python",
   "nbconvert_exporter": "python",
   "pygments_lexer": "ipython2",
   "version": "2.7.6"
  }
 },
 "nbformat": 4,
 "nbformat_minor": 5
}
